{
  "nbformat": 4,
  "nbformat_minor": 0,
  "metadata": {
    "colab": {
      "provenance": [],
      "collapsed_sections": [
        "Kyq0rog-weEl"
      ],
      "authorship_tag": "ABX9TyOm2VD94SsZhad3HyOoToFz",
      "include_colab_link": true
    },
    "kernelspec": {
      "name": "python3",
      "display_name": "Python 3"
    },
    "language_info": {
      "name": "python"
    }
  },
  "cells": [
    {
      "cell_type": "markdown",
      "metadata": {
        "id": "view-in-github",
        "colab_type": "text"
      },
      "source": [
        "<a href=\"https://colab.research.google.com/github/BraceroInSabot/Desafios-ChatGPT/blob/main/Desafios_ChatGPT_12-04-23.ipynb\" target=\"_parent\"><img src=\"https://colab.research.google.com/assets/colab-badge.svg\" alt=\"Open In Colab\"/></a>"
      ]
    },
    {
      "cell_type": "markdown",
      "source": [
        "# **DESAFIO 1**\n",
        "\n",
        "## Desafio: \n",
        "Escreva um programa Python que receba como entrada uma lista de números inteiros e retorne a soma dos números pares na lista.\n",
        "\n",
        "## Requisitos:\n",
        "\n",
        "- O programa deve ser escrito em Python 3.\n",
        "- A entrada deve ser recebida através de uma lista de números inteiros.\n",
        "- A saída deve ser a soma dos números pares na lista.\n",
        "- O programa deve lidar com entradas inválidas ou vazias e retornar uma mensagem apropriada.\n",
        "\n",
        "## Entrada: \n",
        "[1, 2, 3, 4, 5, 6, 7, 8, 9, 10]\n",
        "\n",
        "## Saída: \n",
        "30\n",
        "\n",
        "## Explicação:\n",
        "A soma dos números pares na lista é 2 + 4 + 6 + 8 + 10 = 30."
      ],
      "metadata": {
        "id": "Kyq0rog-weEl"
      }
    },
    {
      "cell_type": "code",
      "source": [
        "# Entrada de dados:\n",
        "numbers_list: list = [1, 2, 3, 4, 5, 6, 7, 8, 9, 10]"
      ],
      "metadata": {
        "id": "wzp_JZhWwcjr"
      },
      "execution_count": 97,
      "outputs": []
    },
    {
      "cell_type": "code",
      "source": [
        "# Processamento de dados\n",
        "def pair_sum_on_list(numbers_list: list) -> int:\n",
        "  \"\"\"\n",
        "    Receive a list with integers, read every number and sum only the pair numbers\n",
        "\n",
        "    :param:\n",
        "    numbers_list: list -> list with integers\n",
        "  \"\"\"\n",
        "  sum_process: list = []\n",
        "\n",
        "  if type(numbers_list) == type([]):\n",
        "    for item in numbers_list:\n",
        "      if type(item) == type(2): \n",
        "        if item % 2 == 0: \n",
        "          sum_process.append(item)\n",
        "      else:\n",
        "        return False\n",
        "  else:\n",
        "    return False\n",
        "\n",
        "  sum_process = sum(sum_process)\n",
        "\n",
        "  return sum_process\n",
        "\n",
        "pair_sum_on_list(numbers_list)"
      ],
      "metadata": {
        "colab": {
          "base_uri": "https://localhost:8080/"
        },
        "id": "7F0qgSpyOJ-9",
        "outputId": "1dc5d79e-b50d-4325-c97e-e1165597bc11"
      },
      "execution_count": 30,
      "outputs": [
        {
          "output_type": "execute_result",
          "data": {
            "text/plain": [
              "30"
            ]
          },
          "metadata": {},
          "execution_count": 30
        }
      ]
    },
    {
      "cell_type": "code",
      "source": [
        "# Testes\n",
        "import unittest\n",
        "\n",
        "class PairSumTest(unittest.TestCase):\n",
        "\n",
        "  def test_invalid_inputs(self):\n",
        "    \"\"\"\n",
        "      Invalid tests. Each test contain an invalid entry\n",
        "    \"\"\"\n",
        "    self.assertFalse(pair_sum_on_list([1, \"a\", True, 2]))\n",
        "    self.assertFalse(pair_sum_on_list([[123, 456], {\"a\": 2}, ([2]), 4]))\n",
        "    self.assertFalse(pair_sum_on_list((2, 4, 6)))\n",
        "    self.assertFalse(pair_sum_on_list([2.4, 6.8, 10.2]))\n",
        "\n",
        "  def test_valid_inputs(self):\n",
        "    \"\"\"\n",
        "      Valid tests running. Must be true/valid\n",
        "    \"\"\"\n",
        "    self.assertEquals(pair_sum_on_list([2, 6, 10, 11, 15, 19]), 18)\n",
        "\n",
        "if __name__ == '__main__':\n",
        "    unittest.main(argv=['first-arg-is-ignored'], exit=False)"
      ],
      "metadata": {
        "colab": {
          "base_uri": "https://localhost:8080/"
        },
        "id": "rI_4uj_lP8Jh",
        "outputId": "dc6fb7ba-7920-46a3-f29f-f8166725434c"
      },
      "execution_count": 96,
      "outputs": [
        {
          "output_type": "stream",
          "name": "stderr",
          "text": [
            ".<ipython-input-96-86c099a250cb>:19: DeprecationWarning: Please use assertEqual instead.\n",
            "  self.assertEquals(pair_sum_on_list([2, 6, 10, 11, 15, 19]), 18)\n",
            ".\n",
            "----------------------------------------------------------------------\n",
            "Ran 2 tests in 0.005s\n",
            "\n",
            "OK\n"
          ]
        }
      ]
    },
    {
      "cell_type": "markdown",
      "source": [
        "# **DESAFIO 2**\n",
        "\n",
        "## Desafio: \n",
        "Escreva uma função Python que recebe uma lista de palavras e retorna o número de palavras que ocorrem mais de uma vez na lista.\n",
        "\n",
        "## Requisitos:\n",
        "- O programa deve ser escrito em Python 3.\n",
        "- A entrada deve ser recebida através de uma lista de palavras.\n",
        "- A saída deve ser um número inteiro indicando quantas palavras ocorrem mais de uma vez na lista.\n",
        "- O programa deve ser capaz de lidar com entradas inválidas ou vazias e retornar uma mensagem apropriada.\n",
        "\n",
        "## Entrada: \n",
        "['olá', 'mundo', 'olá', 'programação', 'python', 'mundo', 'mundo']\n",
        "\n",
        "## Saída: \n",
        "3\n",
        "\n",
        "## Explicação: \n",
        "As palavras \"olá\", \"mundo\" e \"programação\" ocorrem mais de uma vez na lista."
      ],
      "metadata": {
        "id": "oFXeW6TOU72K"
      }
    },
    {
      "cell_type": "code",
      "source": [
        "# Entrada de dados:\n",
        "words_list: list = ['olá', 'mundo', 'olá', 'programação', 'python', 'mundo', 'mundo']"
      ],
      "metadata": {
        "id": "3jRzc-ELWHVq"
      },
      "execution_count": 75,
      "outputs": []
    },
    {
      "cell_type": "code",
      "source": [
        "# Processamento de dados\n",
        "\n",
        "from collections import Counter\n",
        "\n",
        "def words_count(words_list: list) -> int:\n",
        "  \"\"\"\n",
        "    Count each repeated word on the argument and return the most repeated word\n",
        "\n",
        "    :param:\n",
        "    words_list: list -> a list that must contain only strings \n",
        "  \"\"\"\n",
        "  c: dict = Counter(words_list)\n",
        "  maximum: int = 0\n",
        "\n",
        "  if type(words_list) != type([]): return False\n",
        "\n",
        "  for index in list(map(lambda x: type(x), words_list)):\n",
        "    if index == type(\"a\"):\n",
        "      for key, value in c.items():\n",
        "        if value > maximum:\n",
        "          maximum = value\n",
        "    else:\n",
        "      return False\n",
        "\n",
        "  return maximum\n",
        "\n",
        "words_count(words_list)"
      ],
      "metadata": {
        "colab": {
          "base_uri": "https://localhost:8080/"
        },
        "id": "JiJ-rzONWTm4",
        "outputId": "a29c7e47-9028-4839-84da-eef21cd1cb95"
      },
      "execution_count": 98,
      "outputs": [
        {
          "output_type": "execute_result",
          "data": {
            "text/plain": [
              "3"
            ]
          },
          "metadata": {},
          "execution_count": 98
        }
      ]
    },
    {
      "cell_type": "code",
      "source": [
        "# Testes\n",
        "import unittest\n",
        "\n",
        "class PairSumTest(unittest.TestCase):\n",
        "  \n",
        "  def test_invalid_inputs(self):\n",
        "    \"\"\"\n",
        "      Invalid tests. Each test contain an invalid entry\n",
        "    \"\"\"\n",
        "    self.assertFalse(words_count([\"ola\", True, None, 2]))\n",
        "    self.assertFalse(words_count((\"ola\", \"oi\")))\n",
        "  \n",
        "  def test_valid_inputs(self):\n",
        "    \"\"\"\n",
        "      Valid tests running. Must be true/valid\n",
        "    \"\"\"\n",
        "    self.assertEqual(words_count([\"ola\", \"ola\", \"mundo\"]), 2)\n",
        "    self.assertEqual(words_count([\"ola\", \"ola\", \"mundo\", \"python3\", \"python3\", \"python3\"]), 3)\n",
        "\n",
        "if __name__ == '__main__':\n",
        "    unittest.main(argv=['first-arg-is-ignored'], exit=False)"
      ],
      "metadata": {
        "colab": {
          "base_uri": "https://localhost:8080/"
        },
        "id": "W28cNwg0aE6Z",
        "outputId": "7e3ecff0-1977-4aad-fedf-ca2eff401695"
      },
      "execution_count": 99,
      "outputs": [
        {
          "output_type": "stream",
          "name": "stderr",
          "text": [
            "..\n",
            "----------------------------------------------------------------------\n",
            "Ran 2 tests in 0.004s\n",
            "\n",
            "OK\n"
          ]
        }
      ]
    },
    {
      "cell_type": "markdown",
      "source": [
        "# **DESAFIO 3** \n",
        "Escreva um programa Python que encontra o número mínimo de moedas necessárias para representar um valor em reais.\n",
        "\n",
        "## Requisitos:\n",
        "- O programa deve ser escrito em Python 3.\n",
        "- A entrada deve ser um valor em reais.\n",
        "- A saída deve ser o número mínimo de moedas necessárias para representar o valor, utilizando apenas moedas de 1, 5, 10, 25 e 50 centavos.\n",
        "- O programa deve ser capaz de lidar com entradas inválidas ou vazias e retornar uma mensagem apropriada.\n",
        "\n",
        "## Entrada: \n",
        "1.75\n",
        "\n",
        "## Saída: \n",
        "7\n",
        "\n",
        "## Explicação: \n",
        "Para representar RS 1,75 com o mínimo de moedas possível, precisamos de 7 moedas: uma de R$ 1, uma de 50 centavos, uma de 20 centavos e cinco de 1 centavo."
      ],
      "metadata": {
        "id": "4nTSba8mfwZK"
      }
    },
    {
      "cell_type": "code",
      "source": [
        "# Entrada de dados:\n",
        "try:\n",
        "  value: float = float(input(\"Digite um valor monetário: \"))\n",
        "except (TypeError, ValueError):\n",
        "  raise ValueError(\"Please, insert a valid float number\")"
      ],
      "metadata": {
        "colab": {
          "base_uri": "https://localhost:8080/"
        },
        "id": "6lJWZlz8gJpx",
        "outputId": "ff5860d8-52f1-4467-a21f-8e884144feb3"
      },
      "execution_count": 140,
      "outputs": [
        {
          "name": "stdout",
          "output_type": "stream",
          "text": [
            "Digite um valor monetário: 5\n"
          ]
        }
      ]
    },
    {
      "cell_type": "code",
      "source": [
        "# Processamento de dados\n",
        "\n",
        "def coins_count(value: float =value, coins: list =[1, 0.50, 0.25, 0.10, 0.05, 0.01]) -> int:\n",
        "  \"\"\"\n",
        "    Return the min. quantity of coins that we should use to pay a value (brazilian coins)\n",
        "\n",
        "    :param:\n",
        "    value: float -> money quantity\n",
        "    coins: list -> coins the function should use\n",
        "  \"\"\"\n",
        "  if type(value) != float:\n",
        "    return False\n",
        "  \n",
        "\n",
        "  i: int = 0\n",
        "  coins_unity: list = []\n",
        "\n",
        "  while value != 0:\n",
        "    if i == len(coins): break\n",
        "\n",
        "    if value - coins[i] < 0:\n",
        "      i += 1\n",
        "      continue\n",
        "\n",
        "    value = value - coins[i]\n",
        "    coins_unity.append(coins[i])\n",
        "    \n",
        "  return len(coins_unity)\n",
        "\n",
        "coins_count()\n"
      ],
      "metadata": {
        "colab": {
          "base_uri": "https://localhost:8080/"
        },
        "id": "q5k42nhjiMyq",
        "outputId": "cd93aa36-5d28-485b-b2e8-63d67d71105e"
      },
      "execution_count": 139,
      "outputs": [
        {
          "output_type": "execute_result",
          "data": {
            "text/plain": [
              "5"
            ]
          },
          "metadata": {},
          "execution_count": 139
        }
      ]
    },
    {
      "cell_type": "code",
      "source": [
        "# Testes\n",
        "import unittest\n",
        "\n",
        "class PairSumTest(unittest.TestCase):\n",
        "\n",
        "  def test_invalid_inputs(self):\n",
        "    \"\"\"\n",
        "      Invalid tests. Each test contain an invalid entry\n",
        "    \"\"\"\n",
        "    self.assertFalse(coins_count(value=True))\n",
        "    self.assertFalse(coins_count(value=\"a\"))\n",
        "    self.assertFalse(coins_count(value=[int(2)]))\n",
        "    self.assertFalse(coins_count(value=[float(2)]))\n",
        "\n",
        "  def test_valid_inputs(self):\n",
        "    \"\"\"\n",
        "      Valid tests running. Must be true/valid\n",
        "    \"\"\"\n",
        "    self.assertEqual(coins_count(value=float(4.50)), 5)\n",
        "    self.assertEqual(coins_count(value=float(200)), 200)\n",
        "\n",
        "if __name__ == '__main__':\n",
        "    unittest.main(argv=['first-arg-is-ignored'], exit=False)"
      ],
      "metadata": {
        "colab": {
          "base_uri": "https://localhost:8080/"
        },
        "id": "PvYZEyI1l2C6",
        "outputId": "3d13d38a-165d-4b3f-afea-87890ba0f7d5"
      },
      "execution_count": 138,
      "outputs": [
        {
          "output_type": "stream",
          "name": "stderr",
          "text": [
            "..\n",
            "----------------------------------------------------------------------\n",
            "Ran 2 tests in 0.004s\n",
            "\n",
            "OK\n"
          ]
        }
      ]
    }
  ]
}